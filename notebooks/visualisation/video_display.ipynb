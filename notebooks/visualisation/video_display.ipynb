{
 "cells": [
  {
   "cell_type": "code",
   "execution_count": 2,
   "metadata": {},
   "outputs": [],
   "source": [
    "import cv2\n",
    "import numpy as np\n",
    "from matplotlib import pyplot as plt\n",
    "import pkg_resources\n",
    "from pathlib import Path"
   ]
  },
  {
   "cell_type": "code",
   "execution_count": 3,
   "metadata": {},
   "outputs": [],
   "source": [
    "path_0 = r'C:\\Users\\Gebruiker\\Videos\\Probetrials\\2018-12-18_09-26-58_cam_0.avi'\n",
    "path_1 = r'C:\\users\\gebruiker\\videos\\probetrials\\2018-12-18_09-26-58_cam_1.avi'\n",
    "\n",
    "cap_0 = cv2.VideoCapture(path_0)\n",
    "cap_0.set(1,24897)\n",
    "\n",
    "cap_1 = cv2.VideoCapture(path_1)\n",
    "cap_1.set(1,24946)\n",
    "\n",
    "while(True):\n",
    "    rt, frame_0 = cap_0.read()\n",
    "    cv2.imshow('0', frame_0)\n",
    "    rt, frame_1 = cap_1.read()\n",
    "    cv2.imshow('1', frame_1)\n",
    "    if cv2.waitKey(50) & 0xFF == ord('q'):\n",
    "        break\n",
    "\n",
    "cap_0.release()\n",
    "cv2.destroyAllWindows()"
   ]
  }
 ],
 "metadata": {
  "kernelspec": {
   "display_name": "Python 3",
   "language": "python",
   "name": "python3"
  },
  "language_info": {
   "codemirror_mode": {
    "name": "ipython",
    "version": 3
   },
   "file_extension": ".py",
   "mimetype": "text/x-python",
   "name": "python",
   "nbconvert_exporter": "python",
   "pygments_lexer": "ipython3",
   "version": "3.6.5"
  }
 },
 "nbformat": 4,
 "nbformat_minor": 2
}
