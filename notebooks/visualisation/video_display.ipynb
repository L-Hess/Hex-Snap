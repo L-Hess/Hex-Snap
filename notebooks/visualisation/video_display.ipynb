{
 "cells": [
  {
   "cell_type": "code",
   "execution_count": 3,
   "metadata": {},
   "outputs": [],
   "source": [
    "import cv2\n",
    "import numpy as np\n",
    "from matplotlib import pyplot as plt\n",
    "import pkg_resources\n",
    "from pathlib import Path"
   ]
  },
  {
   "cell_type": "code",
   "execution_count": 7,
   "metadata": {},
   "outputs": [],
   "source": [
    "path_0 = r'D:\\Hexmaze_videos\\trialcut\\2019-01-16_10-45-35_cam_0.avi'\n",
    "path_1 = r'D:\\Hexmaze_videos\\trialcut\\2019-01-16_10-45-35_cam_1.avi'\n",
    "\n",
    "i = 11490\n",
    "cap_0 = cv2.VideoCapture(path_0)\n",
    "cap_0.set(1,11490)\n",
    "\n",
    "cap_1 = cv2.VideoCapture(path_1)\n",
    "cap_1.set(1,11509)\n",
    "\n",
    "while(True):\n",
    "    rt, frame_0 = cap_0.read()\n",
    "    \n",
    "    cv2.putText(frame_0, str(i), (10,10), cv2.FONT_HERSHEY_SIMPLEX, 0.4, (255, 255, 255), 2, cv2.LINE_AA)\n",
    "    \n",
    "    cv2.imshow('0', frame_0)\n",
    "    \n",
    "    rt, frame_1 = cap_1.read()\n",
    "    cv2.imshow('1', frame_1)\n",
    "    if cv2.waitKey(20) & 0xFF == ord('q'):\n",
    "        break\n",
    "    i += 1\n",
    "\n",
    "cap_0.release()\n",
    "cv2.destroyAllWindows()"
   ]
  },
  {
   "cell_type": "code",
   "execution_count": null,
   "metadata": {},
   "outputs": [],
   "source": []
  }
 ],
 "metadata": {
  "kernelspec": {
   "display_name": "Python 3",
   "language": "python",
   "name": "python3"
  },
  "language_info": {
   "codemirror_mode": {
    "name": "ipython",
    "version": 3
   },
   "file_extension": ".py",
   "mimetype": "text/x-python",
   "name": "python",
   "nbconvert_exporter": "python",
   "pygments_lexer": "ipython3",
   "version": "3.7.2"
  }
 },
 "nbformat": 4,
 "nbformat_minor": 2
}
